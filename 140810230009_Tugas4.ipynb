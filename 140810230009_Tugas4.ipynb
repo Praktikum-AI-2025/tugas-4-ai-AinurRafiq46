{
  "nbformat": 4,
  "nbformat_minor": 0,
  "metadata": {
    "colab": {
      "provenance": []
    },
    "kernelspec": {
      "name": "python3",
      "display_name": "Python 3"
    },
    "language_info": {
      "name": "python"
    }
  },
  "cells": [
    {
      "cell_type": "code",
      "execution_count": 159,
      "metadata": {
        "id": "lrUpGF12EpU0"
      },
      "outputs": [],
      "source": [
        "import urllib.request\n",
        "import zipfile\n",
        "import tensorflow as tf\n",
        "import os\n",
        "from tensorflow.keras.preprocessing.image import ImageDataGenerator\n",
        "from tensorflow.keras.optimizers import RMSprop\n",
        "from tensorflow.keras.callbacks import LambdaCallback"
      ]
    },
    {
      "cell_type": "code",
      "source": [
        "data_url_1 = 'https://github.com/dicodingacademy/assets/releases/download/release-horse-or-human/horse-or-human.zip'\n",
        "urllib.request.urlretrieve(data_url_1, 'horse-or-human.zip')\n",
        "\n",
        "zip_ref = zipfile.ZipFile('horse-or-human.zip', 'r')\n",
        "zip_ref.extractall('data/horse-or-human')\n",
        "zip_ref.close()"
      ],
      "metadata": {
        "id": "fQS16AVAGBAV"
      },
      "execution_count": 160,
      "outputs": []
    },
    {
      "cell_type": "code",
      "source": [
        "data_url_2 = 'https://github.com/dicodingacademy/assets/raw/main/Simulation/machine_learning/validation-horse-or-human.zip'\n",
        "urllib.request.urlretrieve(data_url_2, 'validation-horse-or-human.zip')\n",
        "\n",
        "zip_ref = zipfile.ZipFile('validation-horse-or-human.zip', 'r')\n",
        "zip_ref.extractall('data/validation-horse-or-human')\n",
        "zip_ref.close()"
      ],
      "metadata": {
        "id": "ZcYZ83N-GOif"
      },
      "execution_count": 161,
      "outputs": []
    },
    {
      "cell_type": "code",
      "source": [
        "TRAINING_DIR = 'data/horse-or-human'\n",
        "VALIDATION_DIR = 'data/validation-horse-or-human'\n",
        "\n",
        "train_datagen = ImageDataGenerator(\n",
        "    rescale=1/255,\n",
        "    rotation_range=40,\n",
        "    horizontal_flip=True,\n",
        "    shear_range=0.2,\n",
        "    zoom_range=0.2,\n",
        "    fill_mode='nearest'\n",
        ")\n",
        "\n",
        "validation_datagen = ImageDataGenerator(rescale=1/255)\n",
        "\n",
        "train_generator = train_datagen.flow_from_directory(\n",
        "    TRAINING_DIR,\n",
        "    target_size=(150,150),\n",
        "    class_mode='binary',\n",
        "    batch_size=32\n",
        ")\n",
        "\n",
        "validation_generator = validation_datagen.flow_from_directory(\n",
        "    VALIDATION_DIR,\n",
        "    target_size=(150,150),\n",
        "    class_mode='binary',\n",
        "    batch_size=32\n",
        ")"
      ],
      "metadata": {
        "colab": {
          "base_uri": "https://localhost:8080/"
        },
        "id": "if9n-0Q-G3aO",
        "outputId": "caf012d5-eecd-4399-cafe-2add8447bf22"
      },
      "execution_count": 162,
      "outputs": [
        {
          "output_type": "stream",
          "name": "stdout",
          "text": [
            "Found 1027 images belonging to 2 classes.\n",
            "Found 256 images belonging to 2 classes.\n"
          ]
        }
      ]
    },
    {
      "cell_type": "code",
      "source": [
        "model = tf.keras.models.Sequential([\n",
        "    tf.keras.layers.Conv2D(16, (3,3), activation='relu', input_shape=(150,150,3)),\n",
        "    tf.keras.layers.MaxPooling2D(2,2),\n",
        "\n",
        "    tf.keras.layers.Conv2D(32, (3,3), activation='relu'),\n",
        "    tf.keras.layers.MaxPooling2D(2,2),\n",
        "\n",
        "    tf.keras.layers.Conv2D(64, (3,3), activation='relu'),\n",
        "    tf.keras.layers.MaxPooling2D(2,2),\n",
        "\n",
        "    tf.keras.layers.Conv2D(128, (3,3), activation='relu'),\n",
        "    tf.keras.layers.MaxPooling2D(2,2),\n",
        "\n",
        "    tf.keras.layers.Flatten(),\n",
        "    tf.keras.layers.Dropout(0.6),\n",
        "    tf.keras.layers.Dense(256, activation='relu'),\n",
        "    tf.keras.layers.Dense(1, activation='sigmoid') # DO NOT CHANGE THIS LINE!\n",
        "])"
      ],
      "metadata": {
        "id": "Z_XxPGIQG50i"
      },
      "execution_count": 163,
      "outputs": []
    },
    {
      "cell_type": "code",
      "source": [
        "class CustomStopCallback(tf.keras.callbacks.Callback):\n",
        "    def on_epoch_end(self, epoch, logs=None):\n",
        "        val_acc = logs.get('val_accuracy')\n",
        "        if val_acc is not None and val_acc >= 0.83:\n",
        "            print(f\"\\nValidation accuracy has reached {val_acc:.2f}, stopping training!\")\n",
        "            self.model.stop_training = True\n",
        "\n",
        "stop_callback = CustomStopCallback()"
      ],
      "metadata": {
        "id": "E176xd0noARJ"
      },
      "execution_count": 164,
      "outputs": []
    },
    {
      "cell_type": "code",
      "source": [
        "model.compile(\n",
        "    loss='binary_crossentropy',\n",
        "    optimizer=RMSprop(learning_rate=0.001),\n",
        "    metrics=['accuracy']\n",
        ")\n",
        "\n",
        "history = model.fit(\n",
        "    train_generator,\n",
        "    epochs=20,\n",
        "    validation_data=validation_generator,\n",
        "    verbose=1,\n",
        "    callbacks=[stop_callback]\n",
        ")"
      ],
      "metadata": {
        "colab": {
          "base_uri": "https://localhost:8080/"
        },
        "id": "AuDHuTvQG4hA",
        "outputId": "b89fd4b7-6400-4dc1-dcdd-942992e21688"
      },
      "execution_count": 165,
      "outputs": [
        {
          "output_type": "stream",
          "name": "stdout",
          "text": [
            "Epoch 1/20\n",
            "\u001b[1m33/33\u001b[0m \u001b[32m━━━━━━━━━━━━━━━━━━━━\u001b[0m\u001b[37m\u001b[0m \u001b[1m22s\u001b[0m 591ms/step - accuracy: 0.5388 - loss: 0.7826 - val_accuracy: 0.5000 - val_loss: 1.2232\n",
            "Epoch 2/20\n",
            "\u001b[1m33/33\u001b[0m \u001b[32m━━━━━━━━━━━━━━━━━━━━\u001b[0m\u001b[37m\u001b[0m \u001b[1m0s\u001b[0m 549ms/step - accuracy: 0.7125 - loss: 0.5433\n",
            "Validation accuracy has reached 0.84, stopping training!\n",
            "\u001b[1m33/33\u001b[0m \u001b[32m━━━━━━━━━━━━━━━━━━━━\u001b[0m\u001b[37m\u001b[0m \u001b[1m20s\u001b[0m 590ms/step - accuracy: 0.7145 - loss: 0.5412 - val_accuracy: 0.8438 - val_loss: 0.6248\n"
          ]
        }
      ]
    },
    {
      "cell_type": "code",
      "source": [
        "model.save(\"model_05.h5\")"
      ],
      "metadata": {
        "colab": {
          "base_uri": "https://localhost:8080/"
        },
        "id": "rYRYfRMFG-mv",
        "outputId": "4cfb1b55-bbe1-45a7-dc5d-f0d17c1904df"
      },
      "execution_count": 166,
      "outputs": [
        {
          "output_type": "stream",
          "name": "stderr",
          "text": [
            "WARNING:absl:You are saving your model as an HDF5 file via `model.save()` or `keras.saving.save_model(model)`. This file format is considered legacy. We recommend using instead the native Keras format, e.g. `model.save('my_model.keras')` or `keras.saving.save_model(model, 'my_model.keras')`. \n"
          ]
        }
      ]
    }
  ]
}